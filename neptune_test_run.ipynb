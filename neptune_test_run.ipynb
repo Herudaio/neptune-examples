{
  "nbformat": 4,
  "nbformat_minor": 0,
  "metadata": {
    "colab": {
      "name": "neptune_test_run.ipynb",
      "provenance": [],
      "collapsed_sections": []
    },
    "kernelspec": {
      "name": "python3",
      "display_name": "Python 3"
    }
  },
  "cells": [
    {
      "cell_type": "markdown",
      "metadata": {
        "id": "dbL6wnySOyQ6",
        "colab_type": "text"
      },
      "source": [
        "Install Neptune client\n"
      ]
    },
    {
      "cell_type": "code",
      "metadata": {
        "id": "jnOHCjCZ4W4a",
        "colab_type": "code",
        "colab": {}
      },
      "source": [
        "pip install neptune-client"
      ],
      "execution_count": 0,
      "outputs": []
    },
    {
      "cell_type": "markdown",
      "metadata": {
        "id": "7LFLtV5R5JKT",
        "colab_type": "text"
      },
      "source": [
        "Import `neptune` library and initialize tracking.\n",
        "\n",
        "I created a public project `shared/colab-test-run` where you can log as anonymous user neptuner (just use `api_token=\"ANONYMOUS\"`).\n",
        "\n",
        "Normally you need to pass your private `api_token` and the name of your  project.\n"
      ]
    },
    {
      "cell_type": "code",
      "metadata": {
        "id": "XMdpj-Se4t0U",
        "colab_type": "code",
        "colab": {
          "base_uri": "https://localhost:8080/",
          "height": 71
        },
        "outputId": "d66a1df2-ed95-4790-c799-fe7f6a980b39"
      },
      "source": [
        "import neptune\n",
        "\n",
        "neptune.init(\n",
        "    api_token=\"ANONYMOUS\",\n",
        "    project_qualified_name=\"shared/colab-test-run\"\n",
        ")"
      ],
      "execution_count": 4,
      "outputs": [
        {
          "output_type": "stream",
          "text": [
            "WARNING: It is not secure to place API token in your source code. You should treat it as a password to your account. It is strongly recommended to use NEPTUNE_API_TOKEN environment variable instead. Remember not to upload source file with API token to any public repository.\n"
          ],
          "name": "stderr"
        },
        {
          "output_type": "execute_result",
          "data": {
            "text/plain": [
              "Project(shared/colab-test-run)"
            ]
          },
          "metadata": {
            "tags": []
          },
          "execution_count": 4
        }
      ]
    },
    {
      "cell_type": "markdown",
      "metadata": {
        "id": "Axi3bvZyERFs",
        "colab_type": "text"
      },
      "source": [
        "# Basic Example\n",
        "\n",
        "Lets start with something super simple.\n",
        "\n",
        "I will:\n",
        " create an experiment, add a tag, and send a metric value\n",
        "\n",
        "* create an experiment\n",
        "* log hyperparameters\n",
        "* log a metric\n",
        "* append a tag\n",
        "* stop experiment\n",
        "\n"
      ]
    },
    {
      "cell_type": "code",
      "metadata": {
        "id": "M-opxR0-DddI",
        "colab_type": "code",
        "outputId": "9e2e8fbd-f006-4889-a9ad-2182f7c14761",
        "colab": {
          "base_uri": "https://localhost:8080/",
          "height": 34
        }
      },
      "source": [
        "neptune.create_experiment(\n",
        "    name='basic-colab-example',\n",
        "    params={'learning_rate':0.1}\n",
        ")\n",
        "\n",
        "neptune.log_metric('accuracy', 0.93)\n",
        "\n",
        "neptune.append_tags(['basic', 'finished_successfully'])\n",
        "\n",
        "neptune.stop()"
      ],
      "execution_count": 5,
      "outputs": [
        {
          "output_type": "stream",
          "text": [
            "https://ui.neptune.ai/shared/colab-test-run/e/COL-8\n"
          ],
          "name": "stdout"
        }
      ]
    },
    {
      "cell_type": "markdown",
      "metadata": {
        "id": "G6hnHaoZDl9u",
        "colab_type": "text"
      },
      "source": [
        "You can change the values and rerun to see your experiments appear in the dashboard.\n",
        "\n",
        "All `basic-colab-example` experiments are grouped in [this dashboard view](https://ui.neptune.ai/o/shared/org/colab-test-run/experiments?viewId=8dbc02b5-c68c-4833-9b43-828678145442).\n",
        "\n",
        "![alt text](https://neptune.ai/wp-content/uploads/Screenshot-from-2020-03-18-11-58-14.png)\n",
        "\n",
        "There are many other things that you can log to neptune:\n",
        "\n",
        "* Images and charts\n",
        "* Artifacts like model weights or results\n",
        "* Text values\n",
        "* Hardware consumption\n",
        "* Code snapshots\n",
        "* and more\n",
        "\n",
        "You can go and see all that in the [documentation](https://docs.neptune.ai/python-api/introduction.html) but you can check out the next example to see some of those.\n",
        "\n",
        "# Keras classification example\n",
        "\n",
        "Install and import your machine learning libraries"
      ]
    },
    {
      "cell_type": "code",
      "metadata": {
        "id": "mgeCIHSX42mo",
        "colab_type": "code",
        "colab": {}
      },
      "source": [
        "pip install keras scikit-plot"
      ],
      "execution_count": 0,
      "outputs": []
    },
    {
      "cell_type": "markdown",
      "metadata": {
        "id": "bVzPPgOb_0nV",
        "colab_type": "text"
      },
      "source": [
        "Get the data:"
      ]
    },
    {
      "cell_type": "code",
      "metadata": {
        "id": "mBWKuQx53i6i",
        "colab_type": "code",
        "colab": {}
      },
      "source": [
        "import tensorflow as tf\n",
        "\n",
        "mnist = tf.keras.datasets.mnist\n",
        "\n",
        "(x_train, y_train), (x_test, y_test) = mnist.load_data()\n",
        "x_train, x_test = x_train / 255.0, x_test / 255.0"
      ],
      "execution_count": 0,
      "outputs": []
    },
    {
      "cell_type": "code",
      "metadata": {
        "id": "j_vS4kUb3uu4",
        "colab_type": "code",
        "colab": {}
      },
      "source": [
        "model = tf.keras.models.Sequential([\n",
        "    tf.keras.layers.Flatten(input_shape=(28, 28)),\n",
        "    tf.keras.layers.Dense(512, activation='relu'),\n",
        "    tf.keras.layers.Dropout(0.2),\n",
        "    tf.keras.layers.Dense(10, activation='softmax')\n",
        "])\n",
        "\n",
        "model.compile(optimizer='sgd',\n",
        "              loss='sparse_categorical_crossentropy',\n",
        "              metrics=['accuracy']\n",
        "              )"
      ],
      "execution_count": 0,
      "outputs": []
    },
    {
      "cell_type": "markdown",
      "metadata": {
        "id": "pRMM3rQDADHK",
        "colab_type": "text"
      },
      "source": [
        "To log metrics after every batch and epoch let's create `NeptuneLogger` callback:"
      ]
    },
    {
      "cell_type": "code",
      "metadata": {
        "id": "e-qXSos03F61",
        "colab_type": "code",
        "colab": {}
      },
      "source": [
        "from tensorflow.keras.callbacks import Callback\n",
        "\n",
        "class NeptuneLogger(Callback):\n",
        "\n",
        "    def on_batch_end(self, batch, logs={}):\n",
        "        for log_name, log_value in logs.items():\n",
        "            neptune.log_metric(f'batch_{log_name}', log_value)\n",
        "\n",
        "    def on_epoch_end(self, epoch, logs={}):\n",
        "        for log_name, log_value in logs.items():\n",
        "            neptune.log_metric(f'epoch_{log_name}', log_value)"
      ],
      "execution_count": 0,
      "outputs": []
    },
    {
      "cell_type": "markdown",
      "metadata": {
        "id": "eWHRrJa8AOU2",
        "colab_type": "text"
      },
      "source": [
        "Now we simply need to create an experiment. \n",
        "I will tag it with the name `advanced` and log hyperparameters `epoch_nr` and `batch_size`: "
      ]
    },
    {
      "cell_type": "code",
      "metadata": {
        "id": "yL1LRdOIW9SM",
        "colab_type": "code",
        "colab": {
          "base_uri": "https://localhost:8080/",
          "height": 51
        },
        "outputId": "f7456bdf-a223-43e8-82f5-92ae45ab6f8b"
      },
      "source": [
        "EPOCH_NR = 6\n",
        "BATCH_SIZE = 32\n",
        "\n",
        "neptune.create_experiment(name='keras-metrics',\n",
        "                          params={'epoch_nr': EPOCH_NR,\n",
        "                                  'batch_size': BATCH_SIZE},\n",
        "                          tags=['advanced'],\n",
        "                          )"
      ],
      "execution_count": 41,
      "outputs": [
        {
          "output_type": "stream",
          "text": [
            "https://ui.neptune.ai/shared/colab-test-run/e/COL-11\n"
          ],
          "name": "stdout"
        },
        {
          "output_type": "execute_result",
          "data": {
            "text/plain": [
              "Experiment(COL-11)"
            ]
          },
          "metadata": {
            "tags": []
          },
          "execution_count": 41
        }
      ]
    },
    {
      "cell_type": "markdown",
      "metadata": {
        "id": "ta0dkCEv998B",
        "colab_type": "text"
      },
      "source": [
        "Now we pass our `NeptuneLogger` as keras callback and thats it."
      ]
    },
    {
      "cell_type": "code",
      "metadata": {
        "id": "0Z6yLLMf3WZf",
        "colab_type": "code",
        "colab": {
          "base_uri": "https://localhost:8080/",
          "height": 292
        },
        "outputId": "72f5bd1d-16e4-40ad-db52-4276e315577e"
      },
      "source": [
        "history = model.fit(x=x_train,\n",
        "                    y=y_train,\n",
        "                    epochs=EPOCH_NR,\n",
        "                    batch_size=BATCH_SIZE,\n",
        "                    validation_data=(x_test, y_test),\n",
        "                    callbacks=[NeptuneLogger()])"
      ],
      "execution_count": 42,
      "outputs": [
        {
          "output_type": "stream",
          "text": [
            "Train on 60000 samples, validate on 10000 samples\n",
            "Epoch 1/6\n",
            "WARNING:tensorflow:Method (on_train_batch_end) is slow compared to the batch update (0.512699). Check your callbacks.\n",
            "   32/60000 [..............................] - ETA: 17:52 - loss: 2.3705 - acc: 0.0625WARNING:tensorflow:Method (on_train_batch_end) is slow compared to the batch update (0.256458). Check your callbacks.\n",
            "60000/60000 [==============================] - 10s 169us/sample - loss: 0.6351 - acc: 0.8340 - val_loss: 0.3456 - val_acc: 0.9088\n",
            "Epoch 2/6\n",
            "60000/60000 [==============================] - 9s 148us/sample - loss: 0.3436 - acc: 0.9031 - val_loss: 0.2789 - val_acc: 0.9236\n",
            "Epoch 3/6\n",
            "60000/60000 [==============================] - 9s 145us/sample - loss: 0.2906 - acc: 0.9185 - val_loss: 0.2454 - val_acc: 0.9320\n",
            "Epoch 4/6\n",
            "60000/60000 [==============================] - 9s 148us/sample - loss: 0.2563 - acc: 0.9273 - val_loss: 0.2191 - val_acc: 0.9394\n",
            "Epoch 5/6\n",
            "60000/60000 [==============================] - 9s 145us/sample - loss: 0.2308 - acc: 0.9353 - val_loss: 0.1991 - val_acc: 0.9452\n",
            "Epoch 6/6\n",
            "60000/60000 [==============================] - 9s 144us/sample - loss: 0.2093 - acc: 0.9413 - val_loss: 0.1840 - val_acc: 0.9482\n"
          ],
          "name": "stdout"
        }
      ]
    },
    {
      "cell_type": "markdown",
      "metadata": {
        "id": "9XWW1thT-BNj",
        "colab_type": "text"
      },
      "source": [
        "You can click on the experiment link above and monitor your learning curves as it is training!\n",
        "\n",
        "![alt text](https://neptune.ai/wp-content/uploads/monitor_training.png)\n",
        "\n",
        "Great thing is, you can log more things if you need to during or after the training is finished.\n",
        "\n",
        "For example, let's calculate some additional metrics on test data and log them."
      ]
    },
    {
      "cell_type": "code",
      "metadata": {
        "id": "B7s1Jpw-5D0p",
        "colab_type": "code",
        "colab": {}
      },
      "source": [
        "import numpy as np\n",
        "\n",
        "y_test_pred = np.asarray(model.predict(x_test))\n",
        "y_test_pred_class = np.argmax(y_test_pred, axis=1)"
      ],
      "execution_count": 0,
      "outputs": []
    },
    {
      "cell_type": "code",
      "metadata": {
        "id": "L9yva_6V4uBh",
        "colab_type": "code",
        "colab": {}
      },
      "source": [
        "from sklearn.metrics import f1_score\n",
        "\n",
        "f1 = f1_score(y_test, y_test_pred_class, average='micro')\n",
        "\n",
        "neptune.log_metric('test_f1', f1)"
      ],
      "execution_count": 0,
      "outputs": []
    },
    {
      "cell_type": "markdown",
      "metadata": {
        "id": "AQ_9BX8o-L2K",
        "colab_type": "text"
      },
      "source": [
        "We can log diagnostic charts like confusion matrix or ROC AUC curve."
      ]
    },
    {
      "cell_type": "code",
      "metadata": {
        "id": "H-l88eLG5N3b",
        "colab_type": "code",
        "colab": {
          "base_uri": "https://localhost:8080/",
          "height": 1000
        },
        "outputId": "68eb13f1-fae2-4439-f109-25f003cc8519"
      },
      "source": [
        "import matplotlib.pyplot as plt\n",
        "from scikitplot.metrics import plot_confusion_matrix, plot_roc\n",
        "\n",
        "fig, ax = plt.subplots(figsize=(16, 12))\n",
        "plot_confusion_matrix(y_test, y_test_pred_class, ax=ax)\n",
        "neptune.log_image('diagnostic_charts', fig)\n",
        "\n",
        "fig, ax = plt.subplots(figsize=(16, 12))\n",
        "plot_roc(y_test, y_test_pred, ax=ax)\n",
        "neptune.log_image('diagnostic_charts', fig)"
      ],
      "execution_count": 45,
      "outputs": [
        {
          "output_type": "display_data",
          "data": {
            "image/png": "[encoded data removed]",
            "text/plain": [
              "<Figure size 1152x864 with 2 Axes>"
            ]
          },
          "metadata": {
            "tags": []
          }
        },
        {
          "output_type": "display_data",
          "data": {
            "image/png": "[encoded data removed]",
            "text/plain": [
              "<Figure size 1152x864 with 1 Axes>"
            ]
          },
          "metadata": {
            "tags": []
          }
        }
      ]
    },
    {
      "cell_type": "markdown",
      "metadata": {
        "id": "riS6P6eq-ULv",
        "colab_type": "text"
      },
      "source": [
        "![alt text](https://neptune.ai/wp-content/uploads/logging_charts.png)\n",
        "\n",
        "We can also log model weights to Neptune."
      ]
    },
    {
      "cell_type": "code",
      "metadata": {
        "id": "x8usf_QZ44_b",
        "colab_type": "code",
        "colab": {}
      },
      "source": [
        "model.save('my_model.h5')\n",
        "neptune.log_artifact('my_model.h5')"
      ],
      "execution_count": 0,
      "outputs": []
    },
    {
      "cell_type": "markdown",
      "metadata": {
        "id": "EiFgEMDm4h0Y",
        "colab_type": "text"
      },
      "source": [
        "![alt text](https://neptune.ai/wp-content/uploads/logging_artifacts.png)\n",
        "\n",
        "With that you can share models with your teammates easily.\n",
        "\n",
        "Once we are done logging we should remember to stop the experiment."
      ]
    },
    {
      "cell_type": "code",
      "metadata": {
        "id": "k1RQuAk5XE1x",
        "colab_type": "code",
        "colab": {}
      },
      "source": [
        "neptune.stop()"
      ],
      "execution_count": 0,
      "outputs": []
    },
    {
      "cell_type": "markdown",
      "metadata": {
        "id": "Xh9Vfi0nXUa_",
        "colab_type": "text"
      },
      "source": [
        "You can play around and run this experiment with different parameters and see results and compare them.\n",
        "\n",
        "Like I've done [here](https://ui.neptune.ai/o/shared/org/colab-test-run/compare?shortId=%5B%22COL-11%22%2C%22COL-10%22%2C%22COL-9%22%2C%22COL-6%22%5D&viewId=f93b0ebd-6c75-4862-96f3-df1a67c08ea9&chartFilter=epoch_val_acc&legendFields=%5B%22shortId%22%2C%22epoch_val_acc%22%2C%22epoch_val_loss%22%2C%22epoch_loss%22%2C%22epoch_acc%22%5D&legendFieldTypes=%5B%22native%22%2C%22numericChannels%22%2C%22numericChannels%22%2C%22numericChannels%22%2C%22numericChannels%22%5D):\n",
        "\n",
        "![alt text](https://neptune.ai/wp-content/uploads/exp_comparison-1.png)\n",
        "\n",
        "A cool thing is, once things are logged to Neptune you can access them from wherever you want.\n",
        "Let me show you. \n",
        "\n",
        "# Access data you logged programatically \n",
        "\n",
        "Neptune lets you fetch whatever you logged to it directly to your notebooks and scripts.\n",
        "\n",
        "Just run:"
      ]
    },
    {
      "cell_type": "code",
      "metadata": {
        "id": "SCa2DlfDXmyh",
        "colab_type": "code",
        "outputId": "61d4453c-8bd8-44bc-be60-9361e48511d9",
        "colab": {
          "base_uri": "https://localhost:8080/",
          "height": 54
        }
      },
      "source": [
        "from neptune import Session\n",
        "\n",
        "session = Session.with_default_backend(api_token=\"ANONYMOUS\")\n",
        "my_project = session.get_project(\"shared/colab-test-run\")"
      ],
      "execution_count": 18,
      "outputs": [
        {
          "output_type": "stream",
          "text": [
            "WARNING: It is not secure to place API token in your source code. You should treat it as a password to your account. It is strongly recommended to use NEPTUNE_API_TOKEN environment variable instead. Remember not to upload source file with API token to any public repository.\n"
          ],
          "name": "stderr"
        }
      ]
    },
    {
      "cell_type": "markdown",
      "metadata": {
        "id": "WA2OWYxmYPg3",
        "colab_type": "text"
      },
      "source": [
        "Now that your project is *fetched* you can download the experiment dashboard data.\n",
        "\n",
        "I will download only the experiment data with the `tag=\"advanced\"` :"
      ]
    },
    {
      "cell_type": "code",
      "metadata": {
        "id": "1Puz1fCsYQcW",
        "colab_type": "code",
        "outputId": "3eff2a4a-5c99-4a70-ce18-8f2ff5a93b31",
        "colab": {
          "base_uri": "https://localhost:8080/",
          "height": 165
        }
      },
      "source": [
        "my_project.get_leaderboard(tag=['advanced']).head()"
      ],
      "execution_count": 19,
      "outputs": [
        {
          "output_type": "execute_result",
          "data": {
            "text/html": [
              "<div>\n",
              "<style scoped>\n",
              "    .dataframe tbody tr th:only-of-type {\n",
              "        vertical-align: middle;\n",
              "    }\n",
              "\n",
              "    .dataframe tbody tr th {\n",
              "        vertical-align: top;\n",
              "    }\n",
              "\n",
              "    .dataframe thead th {\n",
              "        text-align: right;\n",
              "    }\n",
              "</style>\n",
              "<table border=\"1\" class=\"dataframe\">\n",
              "  <thead>\n",
              "    <tr style=\"text-align: right;\">\n",
              "      <th></th>\n",
              "      <th>id</th>\n",
              "      <th>name</th>\n",
              "      <th>created</th>\n",
              "      <th>finished</th>\n",
              "      <th>owner</th>\n",
              "      <th>notes</th>\n",
              "      <th>running_time</th>\n",
              "      <th>size</th>\n",
              "      <th>tags</th>\n",
              "      <th>channel_batch_acc</th>\n",
              "      <th>channel_batch_batch</th>\n",
              "      <th>channel_batch_loss</th>\n",
              "      <th>channel_batch_size</th>\n",
              "      <th>channel_epoch_acc</th>\n",
              "      <th>channel_epoch_loss</th>\n",
              "      <th>channel_epoch_val_acc</th>\n",
              "      <th>channel_epoch_val_loss</th>\n",
              "      <th>channel_external_validation_accuracy</th>\n",
              "      <th>channel_test_f1</th>\n",
              "      <th>parameter_batch_size</th>\n",
              "      <th>parameter_epoch_nr</th>\n",
              "    </tr>\n",
              "  </thead>\n",
              "  <tbody>\n",
              "    <tr>\n",
              "      <th>0</th>\n",
              "      <td>COL-6</td>\n",
              "      <td>keras-metrics</td>\n",
              "      <td>2020-03-18 13:48:57.634000+00:00</td>\n",
              "      <td>2020-03-18 13:53:03.699000+00:00</td>\n",
              "      <td>neptuner</td>\n",
              "      <td></td>\n",
              "      <td>246</td>\n",
              "      <td>4604159</td>\n",
              "      <td>[advanced]</td>\n",
              "      <td>0.9346166849136353</td>\n",
              "      <td>1874.0</td>\n",
              "      <td>0.1260441243648529</td>\n",
              "      <td>32.0</td>\n",
              "      <td>0.9346166849136353</td>\n",
              "      <td>0.23210642515420915</td>\n",
              "      <td>0.9434999823570251</td>\n",
              "      <td>0.20139242940545082</td>\n",
              "      <td>0.82</td>\n",
              "      <td>0.9435</td>\n",
              "      <td>32.0</td>\n",
              "      <td>20.0</td>\n",
              "    </tr>\n",
              "    <tr>\n",
              "      <th>1</th>\n",
              "      <td>COL-9</td>\n",
              "      <td>keras-metrics</td>\n",
              "      <td>2020-03-18 14:06:42.294000+00:00</td>\n",
              "      <td>2020-03-18 14:13:34.798000+00:00</td>\n",
              "      <td>neptuner</td>\n",
              "      <td></td>\n",
              "      <td>412</td>\n",
              "      <td>4613992</td>\n",
              "      <td>[advanced]</td>\n",
              "      <td>0.9347500205039978</td>\n",
              "      <td>1874.0</td>\n",
              "      <td>0.12625783681869507</td>\n",
              "      <td>32.0</td>\n",
              "      <td>0.9347500205039978</td>\n",
              "      <td>0.2352248264034589</td>\n",
              "      <td>0.9426000118255615</td>\n",
              "      <td>0.2028423045039177</td>\n",
              "      <td>NaN</td>\n",
              "      <td>0.9426</td>\n",
              "      <td>32.0</td>\n",
              "      <td>5.0</td>\n",
              "    </tr>\n",
              "  </tbody>\n",
              "</table>\n",
              "</div>"
            ],
            "text/plain": [
              "      id           name  ... parameter_batch_size parameter_epoch_nr\n",
              "0  COL-6  keras-metrics  ...                 32.0               20.0\n",
              "1  COL-9  keras-metrics  ...                 32.0                5.0\n",
              "\n",
              "[2 rows x 21 columns]"
            ]
          },
          "metadata": {
            "tags": []
          },
          "execution_count": 19
        }
      ]
    },
    {
      "cell_type": "markdown",
      "metadata": {
        "id": "fbItgfG-YtKB",
        "colab_type": "text"
      },
      "source": [
        "You can also access information from the individual experiment:"
      ]
    },
    {
      "cell_type": "code",
      "metadata": {
        "id": "dv3SMobaYtX-",
        "colab_type": "code",
        "outputId": "32428363-0ce5-48f6-f291-bbb57ef30fda",
        "colab": {
          "base_uri": "https://localhost:8080/",
          "height": 34
        }
      },
      "source": [
        "exp = my_project.get_experiments(id='COL-6')[0]\n",
        "exp"
      ],
      "execution_count": 20,
      "outputs": [
        {
          "output_type": "execute_result",
          "data": {
            "text/plain": [
              "Experiment(COL-6)"
            ]
          },
          "metadata": {
            "tags": []
          },
          "execution_count": 20
        }
      ]
    },
    {
      "cell_type": "code",
      "metadata": {
        "id": "UJ2ttIZ6YyRc",
        "colab_type": "code",
        "outputId": "615ba5d2-88bc-415e-8a27-7461ea384d95",
        "colab": {
          "base_uri": "https://localhost:8080/",
          "height": 204
        }
      },
      "source": [
        "exp.get_numeric_channels_values(\"epoch_loss\", \"epoch_val_loss\")"
      ],
      "execution_count": 21,
      "outputs": [
        {
          "output_type": "execute_result",
          "data": {
            "text/html": [
              "<div>\n",
              "<style scoped>\n",
              "    .dataframe tbody tr th:only-of-type {\n",
              "        vertical-align: middle;\n",
              "    }\n",
              "\n",
              "    .dataframe tbody tr th {\n",
              "        vertical-align: top;\n",
              "    }\n",
              "\n",
              "    .dataframe thead th {\n",
              "        text-align: right;\n",
              "    }\n",
              "</style>\n",
              "<table border=\"1\" class=\"dataframe\">\n",
              "  <thead>\n",
              "    <tr style=\"text-align: right;\">\n",
              "      <th></th>\n",
              "      <th>x</th>\n",
              "      <th>epoch_val_loss</th>\n",
              "      <th>epoch_loss</th>\n",
              "    </tr>\n",
              "  </thead>\n",
              "  <tbody>\n",
              "    <tr>\n",
              "      <th>0</th>\n",
              "      <td>0.0</td>\n",
              "      <td>0.343443</td>\n",
              "      <td>0.639181</td>\n",
              "    </tr>\n",
              "    <tr>\n",
              "      <th>1</th>\n",
              "      <td>1.0</td>\n",
              "      <td>0.279858</td>\n",
              "      <td>0.345489</td>\n",
              "    </tr>\n",
              "    <tr>\n",
              "      <th>2</th>\n",
              "      <td>2.0</td>\n",
              "      <td>0.246791</td>\n",
              "      <td>0.292363</td>\n",
              "    </tr>\n",
              "    <tr>\n",
              "      <th>3</th>\n",
              "      <td>3.0</td>\n",
              "      <td>0.221676</td>\n",
              "      <td>0.257040</td>\n",
              "    </tr>\n",
              "    <tr>\n",
              "      <th>4</th>\n",
              "      <td>4.0</td>\n",
              "      <td>0.201392</td>\n",
              "      <td>0.232106</td>\n",
              "    </tr>\n",
              "  </tbody>\n",
              "</table>\n",
              "</div>"
            ],
            "text/plain": [
              "     x  epoch_val_loss  epoch_loss\n",
              "0  0.0        0.343443    0.639181\n",
              "1  1.0        0.279858    0.345489\n",
              "2  2.0        0.246791    0.292363\n",
              "3  3.0        0.221676    0.257040\n",
              "4  4.0        0.201392    0.232106"
            ]
          },
          "metadata": {
            "tags": []
          },
          "execution_count": 21
        }
      ]
    },
    {
      "cell_type": "markdown",
      "metadata": {
        "id": "wyGzGc7CZFHc",
        "colab_type": "text"
      },
      "source": [
        "You can even download artifacts from that experiment if you want to:\n",
        "\n"
      ]
    },
    {
      "cell_type": "code",
      "metadata": {
        "id": "O8v9MZsC_asr",
        "colab_type": "code",
        "colab": {}
      },
      "source": [
        "exp.download_artifact('my_model.h5','./')"
      ],
      "execution_count": 0,
      "outputs": []
    },
    {
      "cell_type": "code",
      "metadata": {
        "id": "6WIlQbJv_kCo",
        "colab_type": "code",
        "colab": {
          "base_uri": "https://localhost:8080/",
          "height": 34
        },
        "outputId": "272c2d10-926b-46b2-f07a-ca577b37c3e8"
      },
      "source": [
        "ls ./"
      ],
      "execution_count": 24,
      "outputs": [
        {
          "output_type": "stream",
          "text": [
            "my_model.h5  \u001b[0m\u001b[01;34msample_data\u001b[0m/\n"
          ],
          "name": "stdout"
        }
      ]
    },
    {
      "cell_type": "markdown",
      "metadata": {
        "id": "sPLP5i70U-6S",
        "colab_type": "text"
      },
      "source": [
        "\n",
        "# Learn more about Neptune\n",
        "\n",
        "Read about other Neptune features, create your free account and start logging!\n",
        "\n",
        "[**Go to Neptune**](https://neptune.ai/experiment-tracking?utm_source=colab&utm_medium=notebook&utm_campaign=colab-examples&utm_content=test-run)\n"
      ]
    }
  ]
}
