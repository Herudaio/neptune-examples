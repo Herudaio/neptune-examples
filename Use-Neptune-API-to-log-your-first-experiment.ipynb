{
 "cells": [
  {
   "cell_type": "markdown",
   "metadata": {},
   "source": [
    "# Use Neptune API to Iog your first experiment\n",
    "\n",
    "## Introduction\n",
    "\n",
    "This guide will show you how to:\n",
    "\n",
    "* Install neptune-client\n",
    "* Connect Neptune to your script and create the first experiment\n",
    "* Log metrics to Neptune and explore them in the UI\n",
    "\n",
    "By the end of it, you will run your first experiment and see it in Neptune!\n",
    "\n",
    "## Before you start\n",
    "\n",
    "Install `neptune-client`"
   ]
  },
  {
   "cell_type": "code",
   "execution_count": 1,
   "metadata": {},
   "outputs": [
    {
     "name": "stdout",
     "output_type": "stream",
     "text": [
      "Requirement already satisfied: neptune-client in /home/jakub/miniconda3/envs/py_37/lib/python3.7/site-packages (0.4.119)\n",
      "Requirement already satisfied: six>=1.12.0 in /home/jakub/miniconda3/envs/py_37/lib/python3.7/site-packages (from neptune-client) (1.15.0)\n",
      "Requirement already satisfied: pandas in /home/jakub/miniconda3/envs/py_37/lib/python3.7/site-packages (from neptune-client) (1.0.5)\n",
      "Requirement already satisfied: packaging in /home/jakub/miniconda3/envs/py_37/lib/python3.7/site-packages (from neptune-client) (20.4)\n",
      "Requirement already satisfied: bravado in /home/jakub/miniconda3/envs/py_37/lib/python3.7/site-packages (from neptune-client) (10.6.2)\n",
      "Requirement already satisfied: py3nvml in /home/jakub/miniconda3/envs/py_37/lib/python3.7/site-packages (from neptune-client) (0.2.6)\n",
      "Requirement already satisfied: Pillow>=1.1.6 in /home/jakub/miniconda3/envs/py_37/lib/python3.7/site-packages (from neptune-client) (7.1.2)\n",
      "Requirement already satisfied: websocket-client>=0.35.0 in /home/jakub/miniconda3/envs/py_37/lib/python3.7/site-packages (from neptune-client) (0.57.0)\n",
      "Requirement already satisfied: future>=0.17.1 in /home/jakub/miniconda3/envs/py_37/lib/python3.7/site-packages (from neptune-client) (0.18.2)\n",
      "Requirement already satisfied: requests-oauthlib>=1.0.0 in /home/jakub/miniconda3/envs/py_37/lib/python3.7/site-packages (from neptune-client) (1.3.0)\n",
      "Requirement already satisfied: PyJWT in /home/jakub/miniconda3/envs/py_37/lib/python3.7/site-packages (from neptune-client) (1.7.1)\n",
      "Requirement already satisfied: click>=7.0 in /home/jakub/miniconda3/envs/py_37/lib/python3.7/site-packages (from neptune-client) (7.1.2)\n",
      "Requirement already satisfied: GitPython>=2.0.8 in /home/jakub/miniconda3/envs/py_37/lib/python3.7/site-packages (from neptune-client) (3.1.3)\n",
      "Requirement already satisfied: requests>=2.20.0 in /home/jakub/miniconda3/envs/py_37/lib/python3.7/site-packages (from neptune-client) (2.24.0)\n",
      "Requirement already satisfied: oauthlib>=2.1.0 in /home/jakub/miniconda3/envs/py_37/lib/python3.7/site-packages (from neptune-client) (3.1.0)\n",
      "Requirement already satisfied: pytz>=2017.2 in /home/jakub/miniconda3/envs/py_37/lib/python3.7/site-packages (from pandas->neptune-client) (2020.1)\n",
      "Requirement already satisfied: numpy>=1.13.3 in /home/jakub/miniconda3/envs/py_37/lib/python3.7/site-packages (from pandas->neptune-client) (1.19.0)\n",
      "Requirement already satisfied: python-dateutil>=2.6.1 in /home/jakub/miniconda3/envs/py_37/lib/python3.7/site-packages (from pandas->neptune-client) (2.8.1)\n",
      "Requirement already satisfied: pyparsing>=2.0.2 in /home/jakub/miniconda3/envs/py_37/lib/python3.7/site-packages (from packaging->neptune-client) (2.4.7)\n",
      "Requirement already satisfied: simplejson in /home/jakub/miniconda3/envs/py_37/lib/python3.7/site-packages (from bravado->neptune-client) (3.17.0)\n",
      "Requirement already satisfied: bravado-core>=5.16.1 in /home/jakub/miniconda3/envs/py_37/lib/python3.7/site-packages (from bravado->neptune-client) (5.17.0)\n",
      "Requirement already satisfied: pyyaml in /home/jakub/miniconda3/envs/py_37/lib/python3.7/site-packages (from bravado->neptune-client) (5.3.1)\n",
      "Requirement already satisfied: msgpack-python in /home/jakub/miniconda3/envs/py_37/lib/python3.7/site-packages (from bravado->neptune-client) (0.5.6)\n",
      "Requirement already satisfied: monotonic in /home/jakub/miniconda3/envs/py_37/lib/python3.7/site-packages (from bravado->neptune-client) (1.5)\n",
      "Requirement already satisfied: typing-extensions in /home/jakub/miniconda3/envs/py_37/lib/python3.7/site-packages (from bravado->neptune-client) (3.7.4.2)\n",
      "Requirement already satisfied: xmltodict in /home/jakub/miniconda3/envs/py_37/lib/python3.7/site-packages (from py3nvml->neptune-client) (0.12.0)\n",
      "Requirement already satisfied: gitdb<5,>=4.0.1 in /home/jakub/miniconda3/envs/py_37/lib/python3.7/site-packages (from GitPython>=2.0.8->neptune-client) (4.0.5)\n",
      "Requirement already satisfied: chardet<4,>=3.0.2 in /home/jakub/miniconda3/envs/py_37/lib/python3.7/site-packages (from requests>=2.20.0->neptune-client) (3.0.4)\n",
      "Requirement already satisfied: certifi>=2017.4.17 in /home/jakub/miniconda3/envs/py_37/lib/python3.7/site-packages (from requests>=2.20.0->neptune-client) (2020.6.20)\n",
      "Requirement already satisfied: urllib3!=1.25.0,!=1.25.1,<1.26,>=1.21.1 in /home/jakub/miniconda3/envs/py_37/lib/python3.7/site-packages (from requests>=2.20.0->neptune-client) (1.25.9)\n",
      "Requirement already satisfied: idna<3,>=2.5 in /home/jakub/miniconda3/envs/py_37/lib/python3.7/site-packages (from requests>=2.20.0->neptune-client) (2.10)\n",
      "Requirement already satisfied: jsonref in /home/jakub/miniconda3/envs/py_37/lib/python3.7/site-packages (from bravado-core>=5.16.1->bravado->neptune-client) (0.2)\n",
      "Requirement already satisfied: msgpack>=0.5.2 in /home/jakub/miniconda3/envs/py_37/lib/python3.7/site-packages (from bravado-core>=5.16.1->bravado->neptune-client) (1.0.0)\n",
      "Requirement already satisfied: swagger-spec-validator>=2.0.1 in /home/jakub/miniconda3/envs/py_37/lib/python3.7/site-packages (from bravado-core>=5.16.1->bravado->neptune-client) (2.7.3)\n",
      "Requirement already satisfied: jsonschema[format]>=2.5.1 in /home/jakub/miniconda3/envs/py_37/lib/python3.7/site-packages (from bravado-core>=5.16.1->bravado->neptune-client) (3.2.0)\n",
      "Requirement already satisfied: smmap<4,>=3.0.1 in /home/jakub/miniconda3/envs/py_37/lib/python3.7/site-packages (from gitdb<5,>=4.0.1->GitPython>=2.0.8->neptune-client) (3.0.4)\n",
      "Requirement already satisfied: pyrsistent>=0.14.0 in /home/jakub/miniconda3/envs/py_37/lib/python3.7/site-packages (from jsonschema[format]>=2.5.1->bravado-core>=5.16.1->bravado->neptune-client) (0.16.0)\n",
      "Requirement already satisfied: attrs>=17.4.0 in /home/jakub/miniconda3/envs/py_37/lib/python3.7/site-packages (from jsonschema[format]>=2.5.1->bravado-core>=5.16.1->bravado->neptune-client) (19.3.0)\n",
      "Requirement already satisfied: importlib-metadata; python_version < \"3.8\" in /home/jakub/miniconda3/envs/py_37/lib/python3.7/site-packages (from jsonschema[format]>=2.5.1->bravado-core>=5.16.1->bravado->neptune-client) (1.7.0)\n",
      "Requirement already satisfied: setuptools in /home/jakub/miniconda3/envs/py_37/lib/python3.7/site-packages (from jsonschema[format]>=2.5.1->bravado-core>=5.16.1->bravado->neptune-client) (47.3.1.post20200622)\n",
      "Requirement already satisfied: webcolors; extra == \"format\" in /home/jakub/miniconda3/envs/py_37/lib/python3.7/site-packages (from jsonschema[format]>=2.5.1->bravado-core>=5.16.1->bravado->neptune-client) (1.11.1)\n",
      "Requirement already satisfied: strict-rfc3339; extra == \"format\" in /home/jakub/miniconda3/envs/py_37/lib/python3.7/site-packages (from jsonschema[format]>=2.5.1->bravado-core>=5.16.1->bravado->neptune-client) (0.7)\n",
      "Requirement already satisfied: jsonpointer>1.13; extra == \"format\" in /home/jakub/miniconda3/envs/py_37/lib/python3.7/site-packages (from jsonschema[format]>=2.5.1->bravado-core>=5.16.1->bravado->neptune-client) (2.0)\n",
      "Requirement already satisfied: rfc3987; extra == \"format\" in /home/jakub/miniconda3/envs/py_37/lib/python3.7/site-packages (from jsonschema[format]>=2.5.1->bravado-core>=5.16.1->bravado->neptune-client) (1.3.8)\n",
      "Requirement already satisfied: zipp>=0.5 in /home/jakub/miniconda3/envs/py_37/lib/python3.7/site-packages (from importlib-metadata; python_version < \"3.8\"->jsonschema[format]>=2.5.1->bravado-core>=5.16.1->bravado->neptune-client) (3.1.0)\n",
      "Note: you may need to restart the kernel to use updated packages.\n"
     ]
    }
   ],
   "source": [
    "pip install neptune-client"
   ]
  },
  {
   "cell_type": "markdown",
   "metadata": {},
   "source": [
    "## Step 1 - Initialize Neptune\n",
    "\n",
    "Connects your script to Neptune application. "
   ]
  },
  {
   "cell_type": "code",
   "execution_count": 2,
   "metadata": {},
   "outputs": [
    {
     "data": {
      "text/plain": [
       "Project(shared/onboarding)"
      ]
     },
     "execution_count": 2,
     "metadata": {},
     "output_type": "execute_result"
    }
   ],
   "source": [
    "import neptune\n",
    "\n",
    "neptune.init(project_qualified_name='shared/onboarding',\n",
    "             api_token='ANONYMOUS', \n",
    "            )"
   ]
  },
  {
   "cell_type": "markdown",
   "metadata": {},
   "source": [
    "You tell Neptune: \n",
    "\n",
    "* **who you are**: your Neptune API token `api_token` \n",
    "* **where you want to send your data**: your Neptune project `project_qualified_name`.\n",
    "\n",
    "---\n",
    "\n",
    "**Note:** \n",
    "\n",
    "\n",
    "Instead of logging data to the public project 'shared/onboarding' as an anonymous user 'neptuner' you can log it to your own project.\n",
    "\n",
    "To do that:\n",
    "\n",
    "1. [Create a new project](https://docs.neptune.ai/learn-about-neptune/team-management.html#create-a-project)\n",
    "2. [Get your Neptune API token](https://docs.neptune.ai/python-api/tutorials/get-started.html?highlight=get%20api%20token#copy-api-token)\n",
    "3. Pass the full Neptune project name `USERNAME/PROJECT_NAME` and the API token to `neptune.init`, for example:\n",
    "\n",
    "```python\n",
    "neptune.init(project_qualified_name='funky_steve/hotdog-classification', \n",
    "             api_token='eyJhcGlfYW908fsdf23f940jiri0bn3085gh03riv03irn',\n",
    "            )\n",
    "```\n",
    "\n",
    "---\n",
    "\n",
    "## Step 2 - Create an experiment\n",
    "\n",
    "This creates an experiment in Neptune.\n",
    "\n",
    "Once you have a live experiment you can log things to it. "
   ]
  },
  {
   "cell_type": "code",
   "execution_count": 3,
   "metadata": {},
   "outputs": [
    {
     "name": "stderr",
     "output_type": "stream",
     "text": [
      "NVMLError: NVML Shared Library Not Found - GPU usage metrics may not be reported.\n"
     ]
    },
    {
     "name": "stdout",
     "output_type": "stream",
     "text": [
      "https://ui.neptune.ai/shared/onboarding/e/ON-235\n"
     ]
    },
    {
     "data": {
      "text/plain": [
       "Experiment(ON-235)"
      ]
     },
     "execution_count": 3,
     "metadata": {},
     "output_type": "execute_result"
    }
   ],
   "source": [
    "neptune.create_experiment()"
   ]
  },
  {
   "cell_type": "markdown",
   "metadata": {},
   "source": [
    "Click on the link above to open this experiment in Neptune.\n",
    "\n",
    "For now it is empty but keep the tab with experiment open to see what happens next. \n",
    "\n",
    "## Step 3 - Log metrics during training\n",
    "\n",
    "Log metrics or losses under a name of your choice. You can log one or multiple values."
   ]
  },
  {
   "cell_type": "code",
   "execution_count": 4,
   "metadata": {},
   "outputs": [],
   "source": [
    "import numpy as np\n",
    "from time import sleep\n",
    "\n",
    "neptune.log_metric('single_metric', 0.62)\n",
    "\n",
    "for i in range(100):\n",
    "    sleep(0.2) # to see logging live\n",
    "    neptune.log_metric('random_training_metric', i * np.random.random())\n",
    "    neptune.log_metric('other_random_training_metric', 0.5 * i * np.random.random())"
   ]
  },
  {
   "cell_type": "markdown",
   "metadata": {},
   "source": [
    "This creates 3 logs:\n",
    "* `single_metric` with just one value\n",
    "* `random_metric` with 100 values\n",
    "* `other_random_metric` with 100 values\n",
    "\n",
    "Go to the `Logs` and `Charts` sections of the Neptune UI to see them. \n",
    "\n",
    "![image](https://neptune.ai/wp-content/uploads/logs_and_charts.gif)\n",
    "\n",
    "---\n",
    "\n",
    "**Note:**\n",
    "\n",
    "Neptune automatically logs the hardware consumption during the experiment. \n",
    "\n",
    "You can see it in the `Monitoring` section of the Neptune UI. \n",
    "\n",
    "![image](https://neptune.ai/wp-content/uploads/monitoring.gif)\n",
    "\n",
    "---"
   ]
  },
  {
   "cell_type": "markdown",
   "metadata": {},
   "source": [
    "## Step 4 - Stop the experiment\n",
    "\n",
    "After you are done logging things just stop the experiment.\n",
    "\n",
    "---\n",
    "**Note:**\n",
    "\n",
    "If you are running your experiment in a script and not a notebook it your experiment will be stopped automatically. \n",
    "\n",
    "---"
   ]
  },
  {
   "cell_type": "code",
   "execution_count": 7,
   "metadata": {},
   "outputs": [],
   "source": [
    "neptune.stop()"
   ]
  },
  {
   "cell_type": "markdown",
   "metadata": {},
   "source": [
    "## Conclusion\n",
    "\n",
    "You’ve learned how to:\n",
    "* Install neptune-client\n",
    "* Connect Neptune to your python script and create an experiment\n",
    "* Log metrics to Neptune\n",
    "* See your metrics as logs and charts\n",
    "* See hardware consumption during the experiment run \n",
    "\n",
    "## What's next\n",
    "\n",
    "Now that you know how to create experiments and log metrics you can learn:\n",
    "\n",
    "* [how to log other objects and monitor training in Neptune](https://neptune.ai/blog/monitoring-machine-learning-experiments-guide)\n",
    "* [how to connect Neptune to the ML framework you are using](https://docs.neptune.ai/integrations/introduction.html)"
   ]
  },
  {
   "cell_type": "code",
   "execution_count": null,
   "metadata": {},
   "outputs": [],
   "source": []
  }
 ],
 "metadata": {
  "kernelspec": {
   "display_name": "py_37",
   "language": "python",
   "name": "py_37"
  },
  "language_info": {
   "codemirror_mode": {
    "name": "ipython",
    "version": 3
   },
   "file_extension": ".py",
   "mimetype": "text/x-python",
   "name": "python",
   "nbconvert_exporter": "python",
   "pygments_lexer": "ipython3",
   "version": "3.7.7"
  }
 },
 "nbformat": 4,
 "nbformat_minor": 4
}
